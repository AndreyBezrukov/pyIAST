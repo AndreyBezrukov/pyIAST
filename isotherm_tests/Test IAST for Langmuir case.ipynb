{
 "cells": [
  {
   "cell_type": "markdown",
   "metadata": {},
   "source": [
    "# Test pyIAST for match with competitive Langmuir model"
   ]
  },
  {
   "cell_type": "markdown",
   "metadata": {},
   "source": [
    "In the case that the pure-component isotherms $N_{i,pure}(P)$ follow the Langmuir model with the same saturation loading $M$:\n",
    "    \n",
    "$N_{i,pure} = M \\frac{K_iP}{1+K_iP},$\n",
    "\n",
    "The mixed gas adsorption isotherm follows the competitive Langmuir isotherm:\n",
    "\n",
    "$N_i = M \\frac{K_i p_i}{1 + \\sum_j K_jp_j},$\n",
    "\n",
    "where $p_i$ is the partial pressure of component $i$. Here, we generate synthetic pure-component adsorption isotherm data and confirm that pyIAST agrees with the competitive Langmuir isotherm for 3 components.    "
   ]
  },
  {
   "cell_type": "code",
   "execution_count": 11,
   "metadata": {
    "collapsed": false
   },
   "outputs": [],
   "source": [
    "import numpy as np\n",
    "import pyiast\n",
    "import pandas as pd\n",
    "%matplotlib inline"
   ]
  },
  {
   "cell_type": "markdown",
   "metadata": {},
   "source": [
    "## Generate synthetic pure-component isotherm data, fit Langmuir models to them."
   ]
  },
  {
   "cell_type": "markdown",
   "metadata": {},
   "source": [
    "Model parameters ($M$, $K_i$)"
   ]
  },
  {
   "cell_type": "code",
   "execution_count": 12,
   "metadata": {
    "collapsed": true
   },
   "outputs": [],
   "source": [
    "M = 10.0\n",
    "langmuirKs = [1.0, 10.0, 20.0]  # K_i"
   ]
  },
  {
   "cell_type": "markdown",
   "metadata": {},
   "source": [
    "Generate data according to Langmuir model, store in list of Pandas DataFrames"
   ]
  },
  {
   "cell_type": "code",
   "execution_count": 13,
   "metadata": {
    "collapsed": true
   },
   "outputs": [],
   "source": [
    "pressure = np.linspace(0, 15)\n",
    "dfs = [pd.DataFrame({'P': pressure, \n",
    "                     'L': M * langmuirKs[i] * pressure / (\n",
    "                1.0 + langmuirKs[i] * pressure)})\n",
    "      for i in range(3)]"
   ]
  },
  {
   "cell_type": "markdown",
   "metadata": {},
   "source": [
    "Use pyIAST to fit Lanmguir models to the data, then plot fits"
   ]
  },
  {
   "cell_type": "code",
   "execution_count": 14,
   "metadata": {
    "collapsed": false
   },
   "outputs": [
    {
     "name": "stdout",
     "output_type": "stream",
     "text": [
      "Langmuir identified model parameters:\n",
      "\tK = 1.000011\n",
      "\tM = 9.999996\n",
      "RMSE =  1.23558943329e-05\n"
     ]
    },
    {
     "data": {
      "image/png": "[encoded data removed]",
      "text/plain": [
       "<matplotlib.figure.Figure at 0x7f897580fe10>"
      ]
     },
     "metadata": {},
     "output_type": "display_data"
    },
    {
     "name": "stdout",
     "output_type": "stream",
     "text": [
      "Langmuir identified model parameters:\n",
      "\tK = 9.999977\n",
      "\tM = 10.000000\n",
      "RMSE =  1.24584383163e-06\n"
     ]
    },
    {
     "data": {
      "image/png": "[encoded data removed]",
      "text/plain": [
       "<matplotlib.figure.Figure at 0x7f8971daf510>"
      ]
     },
     "metadata": {},
     "output_type": "display_data"
    },
    {
     "name": "stdout",
     "output_type": "stream",
     "text": [
      "Langmuir identified model parameters:\n",
      "\tK = 19.999969\n",
      "\tM = 10.000000\n",
      "RMSE =  3.12160151037e-07\n"
     ]
    },
    {
     "data": {
      "image/png": "[encoded data removed]",
      "text/plain": [
       "<matplotlib.figure.Figure at 0x7f8971eb1450>"
      ]
     },
     "metadata": {},
     "output_type": "display_data"
    }
   ],
   "source": [
    "isotherms = [pyiast.ModelIsotherm(dfs[i], pressure_key='P', \n",
    "                                  loading_key='L', model='Langmuir') \n",
    "             for i in range(3)]\n",
    "\n",
    "for i in range(len(isotherms)):\n",
    "    isotherms[i].print_params()\n",
    "    pyiast.plot_isotherm(isotherms[i])"
   ]
  },
  {
   "cell_type": "markdown",
   "metadata": {},
   "source": [
    "## Compare pyIAST predicted component loadings to that of competitive Langmuir"
   ]
  },
  {
   "cell_type": "code",
   "execution_count": 15,
   "metadata": {
    "collapsed": false
   },
   "outputs": [
    {
     "name": "stdout",
     "output_type": "stream",
     "text": [
      "Component 0\n",
      "\tIAST loading: 0.163936304098\n",
      "\tCompetitive Langmuir loading: 0.16393442623\n",
      "Component 1\n",
      "\tIAST loading: 2.45901377231\n",
      "\tCompetitive Langmuir loading: 2.45901639344\n",
      "Component 2\n",
      "\tIAST loading: 6.55737663939\n",
      "\tCompetitive Langmuir loading: 6.55737704918\n"
     ]
    }
   ],
   "source": [
    "partial_pressures = [0.2, 0.3, 0.4]\n",
    "q = pyiast.iast(partial_pressures, isotherms)\n",
    "for i in range(3):\n",
    "    print \"Component\", i\n",
    "    print \"\\tIAST loading:\", q[i]\n",
    "    print \"\\tCompetitive Langmuir loading:\", M * langmuirKs[i] *\\\n",
    "    partial_pressures[i] / (1.0 + np.dot(langmuirKs, partial_pressures))"
   ]
  }
 ],
 "metadata": {
  "kernelspec": {
   "display_name": "Python 2",
   "language": "python",
   "name": "python2"
  },
  "language_info": {
   "codemirror_mode": {
    "name": "ipython",
    "version": 2
   },
   "file_extension": ".py",
   "mimetype": "text/x-python",
   "name": "python",
   "nbconvert_exporter": "python",
   "pygments_lexer": "ipython2",
   "version": "2.7.6"
  }
 },
 "nbformat": 4,
 "nbformat_minor": 0
}
