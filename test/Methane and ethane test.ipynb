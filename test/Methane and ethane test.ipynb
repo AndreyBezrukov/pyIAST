{
 "cells": [
  {
   "cell_type": "markdown",
   "metadata": {},
   "source": [
    "# Test "
   ]
  },
  {
   "cell_type": "markdown",
   "metadata": {},
   "source": [
    "We test the IAST code with a binary mixture of methane (CH$_4$) and ethane (C$_2$H$_6$) adsorbed in metal-organic framework IRMOF-1.\n",
    "\n",
    "Simulated pure-component adsorption isotherms at 298 K are present in the files:\n",
    "* `IRMOF-1_methane_isotherm_298K.csv`\n",
    "* `IRMOF-1_ethane_isotherm_298K.csv`\n",
    "\n",
    "We ran dual component GCMC mixture isotherms of methane/ethane in IRMOF-1 at 65 bar total pressure and 298 K at different mixture compositions. This data is present in `IRMOF-1_methane_ethane_mixture_isotherm_65bar_298K.csv`.\n",
    "\n",
    "The goal of this test is to use pyIAST to predict the mixture isotherms from the pure-component isotherms and compare to the binary GCMC mixture simulations."
   ]
  },
  {
   "cell_type": "code",
   "execution_count": 1,
   "metadata": {
    "collapsed": false
   },
   "outputs": [],
   "source": [
    "import pyiast\n",
    "import pandas as pd\n",
    "import numpy as np\n",
    "import matplotlib.pyplot as plt\n",
    "\n",
    "# Matplotlib settings\n",
    "plt.style.use('bmh')\n",
    "%matplotlib inline\n",
    "%config InlineBackend.rc = {'font.size': 15, 'lines.linewidth':3, 'axes.facecolor':'w', 'legend.numpoints':1}\n",
    "\n",
    "# colors to use for plots\n",
    "color_key = {'methane':'g', 'ethane':'r'}"
   ]
  },
  {
   "cell_type": "markdown",
   "metadata": {},
   "source": [
    "## Load pure-component isotherm data as Pandas dataframes"
   ]
  },
  {
   "cell_type": "markdown",
   "metadata": {},
   "source": [
    "### Methane"
   ]
  },
  {
   "cell_type": "code",
   "execution_count": 2,
   "metadata": {
    "collapsed": false
   },
   "outputs": [
    {
     "data": {
      "text/html": [
       "<div>\n",
       "<table border=\"1\" class=\"dataframe\">\n",
       "  <thead>\n",
       "    <tr style=\"text-align: right;\">\n",
       "      <th></th>\n",
       "      <th>Pressure(bar)</th>\n",
       "      <th>Loading(mmol/g)</th>\n",
       "    </tr>\n",
       "  </thead>\n",
       "  <tbody>\n",
       "    <tr>\n",
       "      <th>0</th>\n",
       "      <td>0.0001</td>\n",
       "      <td>0.000043</td>\n",
       "    </tr>\n",
       "    <tr>\n",
       "      <th>1</th>\n",
       "      <td>0.0010</td>\n",
       "      <td>0.000437</td>\n",
       "    </tr>\n",
       "    <tr>\n",
       "      <th>2</th>\n",
       "      <td>0.0100</td>\n",
       "      <td>0.004354</td>\n",
       "    </tr>\n",
       "    <tr>\n",
       "      <th>3</th>\n",
       "      <td>0.1000</td>\n",
       "      <td>0.043012</td>\n",
       "    </tr>\n",
       "    <tr>\n",
       "      <th>4</th>\n",
       "      <td>0.2000</td>\n",
       "      <td>0.086254</td>\n",
       "    </tr>\n",
       "  </tbody>\n",
       "</table>\n",
       "</div>"
      ],
      "text/plain": [
       "   Pressure(bar)  Loading(mmol/g)\n",
       "0         0.0001         0.000043\n",
       "1         0.0010         0.000437\n",
       "2         0.0100         0.004354\n",
       "3         0.1000         0.043012\n",
       "4         0.2000         0.086254"
      ]
     },
     "execution_count": 2,
     "metadata": {},
     "output_type": "execute_result"
    }
   ],
   "source": [
    "df_ch4 = pd.read_csv(\"IRMOF-1_methane_isotherm_298K.csv\")\n",
    "df_ch4.head()"
   ]
  },
  {
   "cell_type": "markdown",
   "metadata": {},
   "source": [
    "### Ethane"
   ]
  },
  {
   "cell_type": "code",
   "execution_count": 3,
   "metadata": {
    "collapsed": false
   },
   "outputs": [
    {
     "data": {
      "text/html": [
       "<div>\n",
       "<table border=\"1\" class=\"dataframe\">\n",
       "  <thead>\n",
       "    <tr style=\"text-align: right;\">\n",
       "      <th></th>\n",
       "      <th>Pressure(bar)</th>\n",
       "      <th>Loading(mmol/g)</th>\n",
       "    </tr>\n",
       "  </thead>\n",
       "  <tbody>\n",
       "    <tr>\n",
       "      <th>0</th>\n",
       "      <td>0.0001</td>\n",
       "      <td>0.000176</td>\n",
       "    </tr>\n",
       "    <tr>\n",
       "      <th>1</th>\n",
       "      <td>0.0010</td>\n",
       "      <td>0.001803</td>\n",
       "    </tr>\n",
       "    <tr>\n",
       "      <th>2</th>\n",
       "      <td>0.0100</td>\n",
       "      <td>0.017680</td>\n",
       "    </tr>\n",
       "    <tr>\n",
       "      <th>3</th>\n",
       "      <td>0.1000</td>\n",
       "      <td>0.180895</td>\n",
       "    </tr>\n",
       "    <tr>\n",
       "      <th>4</th>\n",
       "      <td>0.2000</td>\n",
       "      <td>0.372260</td>\n",
       "    </tr>\n",
       "  </tbody>\n",
       "</table>\n",
       "</div>"
      ],
      "text/plain": [
       "   Pressure(bar)  Loading(mmol/g)\n",
       "0         0.0001         0.000176\n",
       "1         0.0010         0.001803\n",
       "2         0.0100         0.017680\n",
       "3         0.1000         0.180895\n",
       "4         0.2000         0.372260"
      ]
     },
     "execution_count": 3,
     "metadata": {},
     "output_type": "execute_result"
    }
   ],
   "source": [
    "df_ch3ch3 = pd.read_csv(\"IRMOF-1_ethane_isotherm_298K.csv\")\n",
    "df_ch3ch3.head()"
   ]
  },
  {
   "cell_type": "markdown",
   "metadata": {},
   "source": [
    "### Plot isotherm data"
   ]
  },
  {
   "cell_type": "code",
   "execution_count": 4,
   "metadata": {
    "collapsed": false
   },
   "outputs": [
    {
     "data": {
      "image/png": "[encoded data removed]",
      "text/plain": [
       "<matplotlib.figure.Figure at 0x7fd8ca2b3810>"
      ]
     },
     "metadata": {},
     "output_type": "display_data"
    }
   ],
   "source": [
    "fig, ax = plt.subplots()\n",
    "\n",
    "plt.scatter(df_ch3ch3['Pressure(bar)'], df_ch3ch3['Loading(mmol/g)'], \n",
    "            label='Ethane', color=color_key['ethane'], s=50)\n",
    "plt.scatter(df_ch4['Pressure(bar)'], df_ch4['Loading(mmol/g)'], \n",
    "            label='Methane', color=color_key['methane'], s=50, marker='s')\n",
    "\n",
    "plt.xlabel('Pressure (bar)')\n",
    "plt.ylabel('Gas uptake (mmol/g)')\n",
    "\n",
    "plt.xlim([0, 100])\n",
    "plt.ylim(ymin=0)\n",
    "\n",
    "plt.legend(loc='lower right')\n",
    "\n",
    "plt.tight_layout()\n",
    "plt.savefig(\"pure_component_isotherms.pdf\", format='pdf')\n",
    "plt.savefig(\"pure_component_isotherms.png\", format='png', dpi=250)\n",
    "plt.show()"
   ]
  },
  {
   "cell_type": "markdown",
   "metadata": {},
   "source": [
    "## Import binary-component GCMC mixture isotherms"
   ]
  },
  {
   "cell_type": "markdown",
   "metadata": {},
   "source": [
    "This data has the component uptakes in IRMOF-1 at 298 K immersed in a methane/ethane mixture at 65.0 bar total pressure. The column `y_ethane` in the data is the mole fraction of ethane in the mixture."
   ]
  },
  {
   "cell_type": "code",
   "execution_count": 5,
   "metadata": {
    "collapsed": false
   },
   "outputs": [
    {
     "data": {
      "text/html": [
       "<div>\n",
       "<table border=\"1\" class=\"dataframe\">\n",
       "  <thead>\n",
       "    <tr style=\"text-align: right;\">\n",
       "      <th></th>\n",
       "      <th>y_ethane</th>\n",
       "      <th>MethaneLoading(mmol/g)</th>\n",
       "      <th>EthaneLoading(mmol/g)</th>\n",
       "    </tr>\n",
       "  </thead>\n",
       "  <tbody>\n",
       "    <tr>\n",
       "      <th>0</th>\n",
       "      <td>0.001538</td>\n",
       "      <td>17.250355</td>\n",
       "      <td>0.146475</td>\n",
       "    </tr>\n",
       "    <tr>\n",
       "      <th>1</th>\n",
       "      <td>0.007692</td>\n",
       "      <td>16.835037</td>\n",
       "      <td>0.725211</td>\n",
       "    </tr>\n",
       "    <tr>\n",
       "      <th>2</th>\n",
       "      <td>0.015385</td>\n",
       "      <td>16.320927</td>\n",
       "      <td>1.426226</td>\n",
       "    </tr>\n",
       "    <tr>\n",
       "      <th>3</th>\n",
       "      <td>0.030769</td>\n",
       "      <td>15.279949</td>\n",
       "      <td>2.751553</td>\n",
       "    </tr>\n",
       "    <tr>\n",
       "      <th>4</th>\n",
       "      <td>0.046154</td>\n",
       "      <td>14.310433</td>\n",
       "      <td>4.020916</td>\n",
       "    </tr>\n",
       "  </tbody>\n",
       "</table>\n",
       "</div>"
      ],
      "text/plain": [
       "   y_ethane  MethaneLoading(mmol/g)  EthaneLoading(mmol/g)\n",
       "0  0.001538               17.250355               0.146475\n",
       "1  0.007692               16.835037               0.725211\n",
       "2  0.015385               16.320927               1.426226\n",
       "3  0.030769               15.279949               2.751553\n",
       "4  0.046154               14.310433               4.020916"
      ]
     },
     "execution_count": 5,
     "metadata": {},
     "output_type": "execute_result"
    }
   ],
   "source": [
    "df_mixture = pd.read_csv(\"IRMOF-1_methane_ethane_mixture_isotherm_65bar_298K.csv\")\n",
    "df_mixture.head()"
   ]
  },
  {
   "cell_type": "markdown",
   "metadata": {},
   "source": [
    "### Plot mixture data"
   ]
  },
  {
   "cell_type": "code",
   "execution_count": 6,
   "metadata": {
    "collapsed": false
   },
   "outputs": [
    {
     "data": {
      "image/png": "[encoded data removed]",
      "text/plain": [
       "<matplotlib.figure.Figure at 0x7fd8ca2000d0>"
      ]
     },
     "metadata": {},
     "output_type": "display_data"
    }
   ],
   "source": [
    "fig = plt.figure()\n",
    "\n",
    "plt.scatter(df_mixture['y_ethane'], df_mixture['EthaneLoading(mmol/g)'], \n",
    "            color=color_key[\"ethane\"], label='Ethane', s=50)\n",
    "plt.scatter(df_mixture['y_ethane'], df_mixture['MethaneLoading(mmol/g)'], \n",
    "            color=color_key[\"methane\"], label='Methane', s=50)\n",
    "\n",
    "plt.xlabel('Mole fraction ethane in gas phase, $y_{C_2H_6}$')\n",
    "plt.ylabel('Gas uptake (mmol/g)')\n",
    "\n",
    "plt.ylim(ymin=0)\n",
    "plt.xlim([0, .12])\n",
    "\n",
    "plt.legend(loc='center left')\n",
    "\n",
    "plt.show()"
   ]
  },
  {
   "cell_type": "markdown",
   "metadata": {},
   "source": [
    "## Use IAST to predict mixture data, compare to dual component GCMC"
   ]
  },
  {
   "cell_type": "markdown",
   "metadata": {},
   "source": [
    "Construct isotherm objects. Use the interpolator isotherm here, as Langmuir and Quadratic isotherms do not fit well.\n",
    "\n",
    "We use fill_value = largest loading so that, when the linear interpolation routine calls a pressure beyond our data, it will yield this value. Essentially, the assumption is that the saturation loading = the highest loading observed in the data."
   ]
  },
  {
   "cell_type": "markdown",
   "metadata": {},
   "source": [
    "### Interpolator isotherm for Methane"
   ]
  },
  {
   "cell_type": "code",
   "execution_count": 7,
   "metadata": {
    "collapsed": false
   },
   "outputs": [
    {
     "name": "stderr",
     "output_type": "stream",
     "text": [
      "/usr/local/lib/python2.7/dist-packages/pyiast-1.0-py2.7.egg/isotherms.py:389: FutureWarning: sort(columns=....) is deprecated, use sort_values(by=.....)\n",
      "  self.df = df.sort([pressure_key], ascending=True)\n"
     ]
    },
    {
     "data": {
      "image/png": "[encoded data removed]",
      "text/plain": [
       "<matplotlib.figure.Figure at 0x7fd8ca2a0ad0>"
      ]
     },
     "metadata": {},
     "output_type": "display_data"
    }
   ],
   "source": [
    "ch4_isotherm = pyiast.InterpolatorIsotherm(df_ch4, loading_key=\"Loading(mmol/g)\",\n",
    "                                           pressure_key=\"Pressure(bar)\", \n",
    "                                           fill_value=df_ch4['Loading(mmol/g)'].max())\n",
    "pyiast.plot_isotherm(ch4_isotherm)"
   ]
  },
  {
   "cell_type": "markdown",
   "metadata": {},
   "source": [
    "### Interpolator isotherm for ethane"
   ]
  },
  {
   "cell_type": "code",
   "execution_count": 8,
   "metadata": {
    "collapsed": false
   },
   "outputs": [
    {
     "data": {
      "image/png": "[encoded data removed]",
      "text/plain": [
       "<matplotlib.figure.Figure at 0x7fd8c4605110>"
      ]
     },
     "metadata": {},
     "output_type": "display_data"
    }
   ],
   "source": [
    "ch3ch3_isotherm = pyiast.InterpolatorIsotherm(df_ch3ch3, loading_key=\"Loading(mmol/g)\",\n",
    "                                              pressure_key=\"Pressure(bar)\",\n",
    "                                              fill_value=df_ch3ch3[\"Loading(mmol/g)\"].max())\n",
    "pyiast.plot_isotherm(ch3ch3_isotherm)"
   ]
  },
  {
   "cell_type": "markdown",
   "metadata": {},
   "source": [
    "## Perform IAST at same mixture conditions as binary GCMC simulations"
   ]
  },
  {
   "cell_type": "code",
   "execution_count": 9,
   "metadata": {
    "collapsed": false
   },
   "outputs": [],
   "source": [
    "n_mixtures = df_mixture.shape[0]\n",
    "iast_component_loadings = np.zeros((2, n_mixtures))  # store component loadings here\n",
    "\n",
    "for i in range(n_mixtures):\n",
    "    y_ethane = df_mixture['y_ethane'].iloc[i]\n",
    "    partial_pressures = 65.0 * np.array([y_ethane, 1.0 - y_ethane])\n",
    "    iast_component_loadings[:, i] = pyiast.iast(partial_pressures, \n",
    "                          [ch3ch3_isotherm, ch4_isotherm], \n",
    "                          verboseflag=False)"
   ]
  },
  {
   "cell_type": "markdown",
   "metadata": {},
   "source": [
    "## Compare pyIAST predictions to binary GCMC"
   ]
  },
  {
   "cell_type": "markdown",
   "metadata": {},
   "source": [
    "In the following plot, the points are the dual component GCMC simulation loadings at the respective ethane mole fraction in the gas phase. The lines are the result of the IAST calculation. The IAST calculations match the binary GCMC simulations very well."
   ]
  },
  {
   "cell_type": "code",
   "execution_count": 10,
   "metadata": {
    "collapsed": false
   },
   "outputs": [
    {
     "data": {
      "image/png": "[encoded data removed]",
      "text/plain": [
       "<matplotlib.figure.Figure at 0x7fd8c449f950>"
      ]
     },
     "metadata": {},
     "output_type": "display_data"
    }
   ],
   "source": [
    "fig = plt.figure()\n",
    "\n",
    "plt.scatter(df_mixture['y_ethane'], df_mixture['EthaneLoading(mmol/g)'], \n",
    "            color=color_key[\"ethane\"], label='Ethane', s=50)\n",
    "plt.scatter(df_mixture['y_ethane'], df_mixture['MethaneLoading(mmol/g)'], \n",
    "            color=color_key[\"methane\"], label='Methane', s=50)\n",
    "\n",
    "plt.plot(df_mixture['y_ethane'], iast_component_loadings[0, :],\n",
    "         color=color_key['ethane'], label='Ethane, IAST')\n",
    "plt.plot(df_mixture['y_ethane'], iast_component_loadings[1, :],\n",
    "         color=color_key['methane'], label='Methane, IAST')\n",
    "\n",
    "plt.xlabel('Mole fraction ethane in gas phase, $y_{C_2H_6}$')\n",
    "plt.ylabel('Gas uptake (mmol/g)')\n",
    "\n",
    "plt.ylim(ymin=0)\n",
    "plt.xlim([0, .12])\n",
    "\n",
    "plt.legend(loc='center left', prop={'size':12})\n",
    "\n",
    "plt.tight_layout()\n",
    "plt.savefig(\"IAST_validation.pdf\", format='pdf')\n",
    "plt.savefig(\"IAST_validation.png\", format='png', dpi=250)\n",
    "plt.show()"
   ]
  },
  {
   "cell_type": "markdown",
   "metadata": {},
   "source": [
    "## Another sanity check"
   ]
  },
  {
   "cell_type": "markdown",
   "metadata": {},
   "source": [
    "We use IAST for a three-component mixture of 5 bar methane (all the same!). This should yield the loading at 15 bar."
   ]
  },
  {
   "cell_type": "code",
   "execution_count": 11,
   "metadata": {
    "collapsed": false
   },
   "outputs": [
    {
     "name": "stdout",
     "output_type": "stream",
     "text": [
      "Sum of loadings:  6.3796505167\n",
      "Loading at 15 bar:  6.3796505167\n"
     ]
    }
   ],
   "source": [
    "iast_component_loadings = pyiast.iast([5., 5., 5.], \n",
    "                                      [ch4_isotherm, ch4_isotherm, ch4_isotherm])\n",
    "print \"Sum of loadings: \", np.sum(iast_component_loadings)\n",
    "print \"Loading at 15 bar: \", ch4_isotherm.loading(15.)\n",
    "np.testing.assert_almost_equal(np.sum(iast_component_loadings), ch4_isotherm.loading(15.))"
   ]
  },
  {
   "cell_type": "markdown",
   "metadata": {},
   "source": [
    "# Reverse IAST"
   ]
  },
  {
   "cell_type": "markdown",
   "metadata": {},
   "source": [
    "In reverse IAST, we specify the mole fraction in the adsorbed phase and calculate the mole fractions in the gas phase that will yield these adsorbed phase mole fractions. We will test this using the binary component GCMC methane/ethane simulations in `df_mixture`. We define the mole fraction of ethane in the adsorbed phase, $x_{ethane}$, below. ($x_{methane} = 1- x_{ethane}$)."
   ]
  },
  {
   "cell_type": "code",
   "execution_count": 12,
   "metadata": {
    "collapsed": false
   },
   "outputs": [
    {
     "data": {
      "text/html": [
       "<div>\n",
       "<table border=\"1\" class=\"dataframe\">\n",
       "  <thead>\n",
       "    <tr style=\"text-align: right;\">\n",
       "      <th></th>\n",
       "      <th>y_ethane</th>\n",
       "      <th>MethaneLoading(mmol/g)</th>\n",
       "      <th>EthaneLoading(mmol/g)</th>\n",
       "      <th>x_ethane</th>\n",
       "    </tr>\n",
       "  </thead>\n",
       "  <tbody>\n",
       "    <tr>\n",
       "      <th>0</th>\n",
       "      <td>0.001538</td>\n",
       "      <td>17.250355</td>\n",
       "      <td>0.146475</td>\n",
       "      <td>0.008420</td>\n",
       "    </tr>\n",
       "    <tr>\n",
       "      <th>1</th>\n",
       "      <td>0.007692</td>\n",
       "      <td>16.835037</td>\n",
       "      <td>0.725211</td>\n",
       "      <td>0.041298</td>\n",
       "    </tr>\n",
       "    <tr>\n",
       "      <th>2</th>\n",
       "      <td>0.015385</td>\n",
       "      <td>16.320927</td>\n",
       "      <td>1.426226</td>\n",
       "      <td>0.080364</td>\n",
       "    </tr>\n",
       "    <tr>\n",
       "      <th>3</th>\n",
       "      <td>0.030769</td>\n",
       "      <td>15.279949</td>\n",
       "      <td>2.751553</td>\n",
       "      <td>0.152597</td>\n",
       "    </tr>\n",
       "    <tr>\n",
       "      <th>4</th>\n",
       "      <td>0.046154</td>\n",
       "      <td>14.310433</td>\n",
       "      <td>4.020916</td>\n",
       "      <td>0.219346</td>\n",
       "    </tr>\n",
       "  </tbody>\n",
       "</table>\n",
       "</div>"
      ],
      "text/plain": [
       "   y_ethane  MethaneLoading(mmol/g)  EthaneLoading(mmol/g)  x_ethane\n",
       "0  0.001538               17.250355               0.146475  0.008420\n",
       "1  0.007692               16.835037               0.725211  0.041298\n",
       "2  0.015385               16.320927               1.426226  0.080364\n",
       "3  0.030769               15.279949               2.751553  0.152597\n",
       "4  0.046154               14.310433               4.020916  0.219346"
      ]
     },
     "execution_count": 12,
     "metadata": {},
     "output_type": "execute_result"
    }
   ],
   "source": [
    "df_mixture['x_ethane'] = df_mixture['EthaneLoading(mmol/g)'] / (\n",
    "    df_mixture['EthaneLoading(mmol/g)'] + df_mixture['MethaneLoading(mmol/g)'])\n",
    "df_mixture.head()"
   ]
  },
  {
   "cell_type": "markdown",
   "metadata": {},
   "source": [
    "Perform reverse IAST at same adsorbed phase composition as in the binary GCMC simulations."
   ]
  },
  {
   "cell_type": "code",
   "execution_count": 13,
   "metadata": {
    "collapsed": false
   },
   "outputs": [],
   "source": [
    "n_mixtures = df_mixture.shape[0]\n",
    "gas_mole_fractions = np.zeros((2, n_mixtures))  # store bulk gas mole fractions here\n",
    "component_loadings = np.zeros((2, n_mixtures))  # store component loadings here\n",
    "P_total = 65.0  # bar, same units as in xe_isotherm and kr_isotherm\n",
    "for i in range(n_mixtures):\n",
    "    x_ethane = df_mixture['x_ethane'].iloc[i]\n",
    "    gas_mole_fractions[:, i], component_loadings[:, i] =\\\n",
    "        pyiast.reverse_iast([x_ethane, 1.0 - x_ethane],\n",
    "                            P_total,\n",
    "                            [ch3ch3_isotherm, ch4_isotherm])"
   ]
  },
  {
   "cell_type": "markdown",
   "metadata": {},
   "source": [
    "#### Compare reverse IAST to binary GCMC simulations."
   ]
  },
  {
   "cell_type": "markdown",
   "metadata": {},
   "source": [
    "Relationship between mole fraction of ethane in the bulk gas phase and the resulting mole fraction of ethane in the adsorbed phase."
   ]
  },
  {
   "cell_type": "code",
   "execution_count": 14,
   "metadata": {
    "collapsed": false
   },
   "outputs": [
    {
     "data": {
      "image/png": "[encoded data removed]",
      "text/plain": [
       "<matplotlib.figure.Figure at 0x7fd8c4605710>"
      ]
     },
     "metadata": {},
     "output_type": "display_data"
    }
   ],
   "source": [
    "plt.figure()\n",
    "\n",
    "plt.scatter(df_mixture['x_ethane'], df_mixture['y_ethane'], \n",
    "            color='b', label='binary GCMC simulations', s=50)\n",
    "plt.plot(df_mixture['x_ethane'].values, gas_mole_fractions[0, :], \n",
    "         color='b', label='pyIAST')\n",
    "\n",
    "plt.xlabel('$x_{C_2H_6}$')\n",
    "plt.ylabel('$y_{C_2H_6}$')\n",
    "\n",
    "plt.xlim([0, .4])\n",
    "plt.ylim([0, .4])\n",
    "\n",
    "plt.legend(loc='upper left')\n",
    "\n",
    "plt.tight_layout()\n",
    "plt.savefig(\"y_vs_x.pdf\", format='pdf')\n",
    "plt.show()"
   ]
  },
  {
   "cell_type": "markdown",
   "metadata": {},
   "source": [
    "# Compare fits for ethane"
   ]
  },
  {
   "cell_type": "code",
   "execution_count": 15,
   "metadata": {
    "collapsed": false
   },
   "outputs": [
    {
     "data": {
      "image/png": "[encoded data removed]",
      "text/plain": [
       "<matplotlib.figure.Figure at 0x7fd8c4247110>"
      ]
     },
     "metadata": {},
     "output_type": "display_data"
    }
   ],
   "source": [
    "ch3ch3_interpolated = pyiast.InterpolatorIsotherm(df_ch3ch3, loading_key=\"Loading(mmol/g)\",\n",
    "                                              pressure_key=\"Pressure(bar)\",\n",
    "                                              fill_value=df_ch3ch3[\"Loading(mmol/g)\"].max())\n",
    "\n",
    "ch3ch3_langmuir = pyiast.ModelIsotherm(df_ch3ch3, loading_key=\"Loading(mmol/g)\",\n",
    "                                              pressure_key=\"Pressure(bar)\",\n",
    "                                              model=\"Langmuir\")\n",
    "\n",
    "p_plot = np.logspace(np.log(df_ch3ch3['Pressure(bar)'].min()), np.log(80), num=200)\n",
    "\n",
    "\n",
    "fig = plt.figure()\n",
    "\n",
    "plt.xlabel(\"Pressure (bar)\")\n",
    "plt.ylabel(\"Ethane uptake (mmol/g)\")\n",
    "\n",
    "plt.scatter(df_ch3ch3['Pressure(bar)'], df_ch3ch3['Loading(mmol/g)'], \n",
    "            marker='o', color='r', s=40, label='Data', clip_on=False)\n",
    "\n",
    "plt.plot(p_plot, ch3ch3_interpolated.loading(p_plot), color='k', linewidth=1,\n",
    "         label='Linear interpolation', linestyle='--')\n",
    "\n",
    "plt.plot(p_plot, ch3ch3_langmuir.loading(p_plot), color='k', linewidth=1,\n",
    "         label='Langmuir fit')\n",
    "plt.xscale(\"log\")\n",
    "plt.xlim(10**-4, 10**2)\n",
    "plt.ylim(0, 22)\n",
    "\n",
    "plt.legend(loc='upper left')\n",
    "plt.tight_layout()\n",
    "plt.savefig(\"Ethane_isotherm.pdf\", format='pdf')\n",
    "\n",
    "plt.show()"
   ]
  },
  {
   "cell_type": "code",
   "execution_count": 16,
   "metadata": {
    "collapsed": false
   },
   "outputs": [
    {
     "data": {
      "text/plain": [
       "['Langmuir', 'Quadratic', 'BET', 'Henry', 'TemkinApprox', 'DSLangmuir']"
      ]
     },
     "execution_count": 16,
     "metadata": {},
     "output_type": "execute_result"
    }
   ],
   "source": [
    "pyiast._MODELS"
   ]
  }
 ],
 "metadata": {
  "kernelspec": {
   "display_name": "Python 2",
   "language": "python",
   "name": "python2"
  },
  "language_info": {
   "codemirror_mode": {
    "name": "ipython",
    "version": 2
   },
   "file_extension": ".py",
   "mimetype": "text/x-python",
   "name": "python",
   "nbconvert_exporter": "python",
   "pygments_lexer": "ipython2",
   "version": "2.7.6"
  }
 },
 "nbformat": 4,
 "nbformat_minor": 0
}
