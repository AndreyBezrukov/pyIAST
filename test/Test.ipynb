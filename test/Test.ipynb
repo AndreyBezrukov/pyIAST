{
 "cells": [
  {
   "cell_type": "markdown",
   "metadata": {},
   "source": [
    "# Test"
   ]
  },
  {
   "cell_type": "markdown",
   "metadata": {},
   "source": [
    "We test the IAST code with a binary mixture of Xe and Kr in IRMOF-1.\n",
    "\n",
    "Simulated pure component adsorption isotherms at 298 K are present in:\n",
    "* IRMOF-1_clean_Xe_isotherm_298K.csv\n",
    "* IRMOF-1_clean_Kr_isotherm_298K.csv\n",
    "\n",
    "We ran dual component GCMC mixture isotherms of Xe/Kr in IRMOF-1 at 1 bar total pressure and different mixture conditions. This data is present in mixture_Xe_Kr_IRMOF-1_clean_298K.csv."
   ]
  },
  {
   "cell_type": "code",
   "execution_count": 2,
   "metadata": {
    "collapsed": false
   },
   "outputs": [
    {
     "name": "stderr",
     "output_type": "stream",
     "text": [
      "/usr/local/lib/python2.7/dist-packages/pandas/computation/expressions.py:21: UserWarning: The installed version of numexpr 1.4.2 is not supported in pandas and will be not be used\n",
      "The minimum supported version is 2.1\n",
      "\n",
      "  \"version is 2.1\\n\".format(ver=ver), UserWarning)\n"
     ]
    }
   ],
   "source": [
    "import IAST\n",
    "import pandas as pd\n",
    "import matplotlib\n",
    "import numpy as np\n",
    "import matplotlib.pyplot as plt\n",
    "%matplotlib inline"
   ]
  },
  {
   "cell_type": "markdown",
   "metadata": {},
   "source": [
    "## Load pure component Xe and Kr isotherms as Pandas dataframes"
   ]
  },
  {
   "cell_type": "code",
   "execution_count": 3,
   "metadata": {
    "collapsed": false
   },
   "outputs": [
    {
     "data": {
      "text/html": [
       "<div style=\"max-height:1000px;max-width:1500px;overflow:auto;\">\n",
       "<table border=\"1\" class=\"dataframe\">\n",
       "  <thead>\n",
       "    <tr style=\"text-align: right;\">\n",
       "      <th></th>\n",
       "      <th>Pressure(bar)</th>\n",
       "      <th>Loading(mol/m3)</th>\n",
       "    </tr>\n",
       "  </thead>\n",
       "  <tbody>\n",
       "    <tr>\n",
       "      <th>0</th>\n",
       "      <td> 0.000001</td>\n",
       "      <td> 0.000963</td>\n",
       "    </tr>\n",
       "    <tr>\n",
       "      <th>1</th>\n",
       "      <td> 0.000002</td>\n",
       "      <td> 0.002408</td>\n",
       "    </tr>\n",
       "    <tr>\n",
       "      <th>2</th>\n",
       "      <td> 0.000004</td>\n",
       "      <td> 0.003372</td>\n",
       "    </tr>\n",
       "    <tr>\n",
       "      <th>3</th>\n",
       "      <td> 0.000005</td>\n",
       "      <td> 0.005780</td>\n",
       "    </tr>\n",
       "    <tr>\n",
       "      <th>4</th>\n",
       "      <td> 0.000006</td>\n",
       "      <td> 0.001927</td>\n",
       "    </tr>\n",
       "  </tbody>\n",
       "</table>\n",
       "</div>"
      ],
      "text/plain": [
       "   Pressure(bar)  Loading(mol/m3)\n",
       "0       0.000001         0.000963\n",
       "1       0.000002         0.002408\n",
       "2       0.000004         0.003372\n",
       "3       0.000005         0.005780\n",
       "4       0.000006         0.001927"
      ]
     },
     "execution_count": 3,
     "metadata": {},
     "output_type": "execute_result"
    }
   ],
   "source": [
    "df_Xe = pd.read_csv(\"IRMOF-1_Xe_isotherm_298K.csv\")\n",
    "df_Xe.head()"
   ]
  },
  {
   "cell_type": "code",
   "execution_count": 4,
   "metadata": {
    "collapsed": false
   },
   "outputs": [
    {
     "data": {
      "text/html": [
       "<div style=\"max-height:1000px;max-width:1500px;overflow:auto;\">\n",
       "<table border=\"1\" class=\"dataframe\">\n",
       "  <thead>\n",
       "    <tr style=\"text-align: right;\">\n",
       "      <th></th>\n",
       "      <th>Pressure(bar)</th>\n",
       "      <th>Loading(mol/m3)</th>\n",
       "    </tr>\n",
       "  </thead>\n",
       "  <tbody>\n",
       "    <tr>\n",
       "      <th>0</th>\n",
       "      <td> 0.000001</td>\n",
       "      <td> 0.000000</td>\n",
       "    </tr>\n",
       "    <tr>\n",
       "      <th>1</th>\n",
       "      <td> 0.000002</td>\n",
       "      <td> 0.000963</td>\n",
       "    </tr>\n",
       "    <tr>\n",
       "      <th>2</th>\n",
       "      <td> 0.000004</td>\n",
       "      <td> 0.000482</td>\n",
       "    </tr>\n",
       "    <tr>\n",
       "      <th>3</th>\n",
       "      <td> 0.000005</td>\n",
       "      <td> 0.000963</td>\n",
       "    </tr>\n",
       "    <tr>\n",
       "      <th>4</th>\n",
       "      <td> 0.000006</td>\n",
       "      <td> 0.000482</td>\n",
       "    </tr>\n",
       "  </tbody>\n",
       "</table>\n",
       "</div>"
      ],
      "text/plain": [
       "   Pressure(bar)  Loading(mol/m3)\n",
       "0       0.000001         0.000000\n",
       "1       0.000002         0.000963\n",
       "2       0.000004         0.000482\n",
       "3       0.000005         0.000963\n",
       "4       0.000006         0.000482"
      ]
     },
     "execution_count": 4,
     "metadata": {},
     "output_type": "execute_result"
    }
   ],
   "source": [
    "df_Kr = pd.read_csv(\"IRMOF-1_Kr_isotherm_298K.csv\")\n",
    "df_Kr.head()"
   ]
  },
  {
   "cell_type": "markdown",
   "metadata": {},
   "source": [
    "Look at pure component isotherms to see that they reach saturation"
   ]
  },
  {
   "cell_type": "code",
   "execution_count": 5,
   "metadata": {
    "collapsed": false
   },
   "outputs": [
    {
     "data": {
      "image/png": "[encoded data removed]",
      "text/plain": [
       "<matplotlib.figure.Figure at 0x57a6610>"
      ]
     },
     "metadata": {},
     "output_type": "display_data"
    }
   ],
   "source": [
    "fig = plt.figure()\n",
    "plt.xlabel('Pressure (bar)')\n",
    "plt.ylabel('Loading (mol/m$^3\\!$)')\n",
    "plt.scatter(df_Kr['Pressure(bar)'], df_Kr['Loading(mol/m3)'], color='r', label='Kr')\n",
    "plt.scatter(df_Xe['Pressure(bar)'], df_Xe['Loading(mol/m3)'], color='b', label='Xe')\n",
    "plt.xlim(xmin=0)\n",
    "plt.ylim(ymin=0)\n",
    "plt.legend(loc='lower right')\n",
    "plt.show()"
   ]
  },
  {
   "cell_type": "markdown",
   "metadata": {},
   "source": [
    "## Load dual-component GCMC mixture isotherms"
   ]
  },
  {
   "cell_type": "code",
   "execution_count": 6,
   "metadata": {
    "collapsed": false
   },
   "outputs": [
    {
     "data": {
      "text/html": [
       "<div style=\"max-height:1000px;max-width:1500px;overflow:auto;\">\n",
       "<table border=\"1\" class=\"dataframe\">\n",
       "  <thead>\n",
       "    <tr style=\"text-align: right;\">\n",
       "      <th></th>\n",
       "      <th>Xe_fug(Pa)</th>\n",
       "      <th>Kr_fug(Pa)</th>\n",
       "      <th>Xe_loading(mol/m3)</th>\n",
       "      <th>Kr_loading(mol/m3)</th>\n",
       "      <th>y_Xe</th>\n",
       "    </tr>\n",
       "  </thead>\n",
       "  <tbody>\n",
       "    <tr>\n",
       "      <th>0</th>\n",
       "      <td> 10000</td>\n",
       "      <td> 90000</td>\n",
       "      <td>  81.939715</td>\n",
       "      <td> 259.767664</td>\n",
       "      <td> 0.1</td>\n",
       "    </tr>\n",
       "    <tr>\n",
       "      <th>1</th>\n",
       "      <td> 20000</td>\n",
       "      <td> 80000</td>\n",
       "      <td> 165.813861</td>\n",
       "      <td> 232.605673</td>\n",
       "      <td> 0.2</td>\n",
       "    </tr>\n",
       "    <tr>\n",
       "      <th>2</th>\n",
       "      <td> 30000</td>\n",
       "      <td> 70000</td>\n",
       "      <td> 250.640773</td>\n",
       "      <td> 203.088263</td>\n",
       "      <td> 0.3</td>\n",
       "    </tr>\n",
       "    <tr>\n",
       "      <th>3</th>\n",
       "      <td> 40000</td>\n",
       "      <td> 60000</td>\n",
       "      <td> 334.533223</td>\n",
       "      <td> 173.518349</td>\n",
       "      <td> 0.4</td>\n",
       "    </tr>\n",
       "    <tr>\n",
       "      <th>4</th>\n",
       "      <td> 50000</td>\n",
       "      <td> 50000</td>\n",
       "      <td> 418.326928</td>\n",
       "      <td> 147.291301</td>\n",
       "      <td> 0.5</td>\n",
       "    </tr>\n",
       "  </tbody>\n",
       "</table>\n",
       "</div>"
      ],
      "text/plain": [
       "   Xe_fug(Pa)  Kr_fug(Pa)  Xe_loading(mol/m3)  Kr_loading(mol/m3)  y_Xe\n",
       "0       10000       90000           81.939715          259.767664   0.1\n",
       "1       20000       80000          165.813861          232.605673   0.2\n",
       "2       30000       70000          250.640773          203.088263   0.3\n",
       "3       40000       60000          334.533223          173.518349   0.4\n",
       "4       50000       50000          418.326928          147.291301   0.5"
      ]
     },
     "execution_count": 6,
     "metadata": {},
     "output_type": "execute_result"
    }
   ],
   "source": [
    "df_mix = pd.read_csv(\"mixture_Xe_Kr_IRMOF-1_clean_298K.csv\", skiprows=1)\n",
    "# define mole fraction Xe in gas phase\n",
    "df_mix[\"y_Xe\"] = df_mix[\"Xe_fug(Pa)\"] / (df_mix[\"Xe_fug(Pa)\"] + df_mix[\"Kr_fug(Pa)\"])\n",
    "df_mix.head()"
   ]
  },
  {
   "cell_type": "markdown",
   "metadata": {},
   "source": [
    "Viz"
   ]
  },
  {
   "cell_type": "code",
   "execution_count": 7,
   "metadata": {
    "collapsed": false
   },
   "outputs": [
    {
     "data": {
      "image/png": "[encoded data removed]",
      "text/plain": [
       "<matplotlib.figure.Figure at 0x58fd290>"
      ]
     },
     "metadata": {},
     "output_type": "display_data"
    }
   ],
   "source": [
    "fig = plt.figure()\n",
    "plt.xlabel('Mole fraction Xe in gas phase, $y_{Xe}$')\n",
    "plt.ylabel('Gas uptake (mol/m$^3\\!$)')\n",
    "plt.scatter(df_mix['y_Xe'], df_mix['Kr_loading(mol/m3)'], color='r', label='Kr')\n",
    "plt.scatter(df_mix['y_Xe'], df_mix['Xe_loading(mol/m3)'], color='b', label='Xe')\n",
    "plt.legend(loc='upper left')\n",
    "plt.show()"
   ]
  },
  {
   "cell_type": "markdown",
   "metadata": {},
   "source": [
    "## Use IAST to predict mixture data, compare to dual component GCMC"
   ]
  },
  {
   "cell_type": "markdown",
   "metadata": {},
   "source": [
    "Construct isotherm objects. Use the interpolator isotherm here, as Langmuir and Quadratic isotherms do not fit well.\n",
    "\n",
    "We use fill_value = largest loading so that, when the linear interpolation routine calls a pressure beyond our data, it will yield this value. Essentially, the assumption is that the saturation loading = the loading for this last point."
   ]
  },
  {
   "cell_type": "code",
   "execution_count": 8,
   "metadata": {
    "collapsed": false
   },
   "outputs": [],
   "source": [
    "xe_isotherm = IAST.InterpolatorIsotherm(df_Xe, loading_key=\"Loading(mol/m3)\", pressure_key=\"Pressure(bar)\", fill_value=df_Xe[\"Loading(mol/m3)\"].max())\n",
    "kr_isotherm = IAST.InterpolatorIsotherm(df_Kr, loading_key=\"Loading(mol/m3)\", pressure_key=\"Pressure(bar)\", fill_value=df_Kr[\"Loading(mol/m3)\"].max())"
   ]
  },
  {
   "cell_type": "markdown",
   "metadata": {},
   "source": [
    "Perform IAST at mixture conditions above"
   ]
  },
  {
   "cell_type": "code",
   "execution_count": 9,
   "metadata": {
    "collapsed": false
   },
   "outputs": [],
   "source": [
    "n_mixtures = df_mix.shape[0]\n",
    "q = np.zeros((2, n_mixtures))  # store component loadings here\n",
    "\n",
    "for i in range(n_mixtures):\n",
    "    p = [df_mix[\"y_Xe\"].iloc[i], 1.0 - df_mix[\"y_Xe\"].iloc[i]]\n",
    "    q[:, i] = IAST.IAST(p, [xe_isotherm, kr_isotherm], verboseflag=False)"
   ]
  },
  {
   "cell_type": "markdown",
   "metadata": {},
   "source": [
    "## Compare IAST loadings to mixture isotherms"
   ]
  },
  {
   "cell_type": "markdown",
   "metadata": {},
   "source": [
    "In the following plot, the points are the dual component GCMC simulation loadings at the respective Xe mole fraction in the gas phase. The lines are the result of the IAST calculation. The IAST calculations match the binary GCMC simulations very well."
   ]
  },
  {
   "cell_type": "code",
   "execution_count": 13,
   "metadata": {
    "collapsed": false
   },
   "outputs": [
    {
     "data": {
      "image/png": "[encoded data removed]",
      "text/plain": [
       "<matplotlib.figure.Figure at 0x5e88310>"
      ]
     },
     "metadata": {},
     "output_type": "display_data"
    }
   ],
   "source": [
    "fig = plt.figure()\n",
    "plt.xlabel('Mole fraction Xe in gas phase, $y_{Xe}$')\n",
    "plt.ylabel('Gas uptake (mol/m$^3\\!$)')\n",
    "plt.scatter(df_mix['y_Xe'], df_mix['Kr_loading(mol/m3)'], color='r', label='Kr, dual GCMC')\n",
    "plt.scatter(df_mix['y_Xe'], df_mix['Xe_loading(mol/m3)'], color='b', label='Xe, dual GCMC')\n",
    "plt.plot(df_mix['y_Xe'], q[1, :], color='r', label='Kr, IAST')\n",
    "plt.plot(df_mix['y_Xe'], q[0, :], color='b', label='Xe, IAST')\n",
    "plt.legend(loc='upper left')\n",
    "plt.title('Total fugacity = 1 bar')\n",
    "plt.savefig('../doc/validation.png')\n",
    "plt.show()"
   ]
  },
  {
   "cell_type": "code",
   "execution_count": 11,
   "metadata": {
    "collapsed": false
   },
   "outputs": [
    {
     "data": {
      "text/plain": [
       "array([ 144.97329154,  144.97329154,  144.97329154])"
      ]
     },
     "execution_count": 11,
     "metadata": {},
     "output_type": "execute_result"
    }
   ],
   "source": [
    "IAST.IAST([.5,.5,.5], [kr_isotherm, kr_isotherm, kr_isotherm], verboseflag=False)"
   ]
  }
 ],
 "metadata": {
  "kernelspec": {
   "display_name": "Python 2",
   "language": "python",
   "name": "python2"
  },
  "language_info": {
   "codemirror_mode": {
    "name": "ipython",
    "version": 2
   },
   "file_extension": ".py",
   "mimetype": "text/x-python",
   "name": "python",
   "nbconvert_exporter": "python",
   "pygments_lexer": "ipython2",
   "version": "2.7.3"
  }
 },
 "nbformat": 4,
 "nbformat_minor": 0
}
